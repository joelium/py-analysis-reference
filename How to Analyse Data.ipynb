{
 "cells": [
  {
   "cell_type": "markdown",
   "metadata": {},
   "source": [
    "# Why\n",
    "## What is the goal?\n",
    "\n",
    "When you analyse the data you need to know the goal of the analysis. This will aid you in the analysis as you'll be able to narrow down the data you need to use much quicker, and it'll help you get less distracted by other tasks that don't contribute to the end goal.\n",
    "\n",
    "If you've been given a vague task such as \"See what you can get from this data\", you'll likely need to move on to exploring the data to see what it can tell you in the context of your role, team or company. Then you can formulate your own questions it can answer to create your goal."
   ]
  },
  {
   "cell_type": "markdown",
   "metadata": {},
   "source": [
    "# What\n",
    "\n",
    "## What data points will help you acheive your goal?\n",
    "\n",
    "This is where you start exploring your data. Look for the data that is relevant to the goal, possibly looking for variables you can combine to create bettere insights. You may realise that the data you have doesn't contain all the information you need to achieve the goal. You can think of the kind of additional data you need, and then identify sources from which you can obtain it."
   ]
  },
  {
   "cell_type": "markdown",
   "metadata": {},
   "source": [
    "# How\n",
    "\n",
    "## What are the tools, techniques and methods you can use?\n",
    "\n",
    "You can now look at the methods for manipulating and presenting the data. You can start creatig the functions you may use, the available libraies in the language you'll be using, and the ways you can present your data."
   ]
  },
  {
   "cell_type": "markdown",
   "metadata": {},
   "source": [
    "# When\n",
    "\n",
    "## What are the time constraints?\n",
    "\n",
    "If you only have a vague timeframe for completing your task, give yourself a deadline. When planning your tasks, bear in mind that accordig to a recent survey, about 80% of your time will be spent in cleaning and exploring your data."
   ]
  },
  {
   "cell_type": "markdown",
   "metadata": {},
   "source": [
    "# Planning\n",
    "\n",
    "It may be helpful to start from your end point, for example giving a 5 minute presentation to a manager that doesn't know the dataset. Then think about the items you'd like to present (e.g. charts and tables), the tools to create those items (e.g. matplotlib / seaborn), and then the methods you need to use to get the data for these."
   ]
  },
  {
   "cell_type": "markdown",
   "metadata": {},
   "source": [
    "# Documentation\n",
    "\n",
    "## Comment your code\n",
    "\n",
    "Commenting your code has a number of benefits. If you leave a project for some time, it's a lot easier to see what you intended your ccode to be doing. If the task / project gets passed to someone else, they will find it much easier to familiarise themselves with your code. If you need to share it with someone to show them how to so something, they'll likely be able to understand what is happening much sooner."
   ]
  },
  {
   "cell_type": "markdown",
   "metadata": {},
   "source": [
    "## Document how to use the code\n",
    "\n",
    "It's easy for you to know how to use your program because you wrote it. Others may not have the time to read through it all to understand how to use it, so creating a document that briefly expalins what the program is for, and how to use it will help them greatly. "
   ]
  },
  {
   "cell_type": "markdown",
   "metadata": {},
   "source": [
    "## Document how to modify the code\n",
    "\n",
    "At some point you may be giving the program for someone else to use. If they need to modify the code for their use-case, they'll find this type of document very useful. Although your is (or should be!) well commented, you can break the program down into the various sections, explaining the aim of the different parts and how they are linked to each other."
   ]
  },
  {
   "cell_type": "code",
   "execution_count": null,
   "metadata": {},
   "outputs": [],
   "source": []
  }
 ],
 "metadata": {
  "kernelspec": {
   "display_name": "Python 3",
   "language": "python",
   "name": "python3"
  },
  "language_info": {
   "codemirror_mode": {
    "name": "ipython",
    "version": 3
   },
   "file_extension": ".py",
   "mimetype": "text/x-python",
   "name": "python",
   "nbconvert_exporter": "python",
   "pygments_lexer": "ipython3",
   "version": "3.7.7"
  }
 },
 "nbformat": 4,
 "nbformat_minor": 4
}
